### Idea 1  
I could use the full text transcripts of the first six *Phoenix Wright: Ace Attorney* games to train a model to predict the correct answers in the *Ace Attorney Investigations: Edgeworth* games. The full transcripts are available on the *Phoenix Wright* wiki, and I am currently parsing these texts in a different way for another class.  

There are six main series games and a lot of spin-off games that could be used for this; each game is split into about 5 cases, with the last generally being the longest. For example, the final case in *Apollo Justice: Dual Destinies* (part of the series’ second trilogy) is upwards of 40,000 words. Each game is in the word count ballpark of a novel.  

---

### Idea 2  
I could train a model using the "Am I the Asshole?" (AITA) dataset to analyze other AITA posts or AIO Reddit posts for morality/ability to judge user consensus. The data for this project comes from Elle O’Brien’s research, and the dataset is publicly available on GitHub: [AITA Dataset](https://github.com/elleobrien/AITA_Dataset).  

O’Brien’s full dataset includes over 100,000 posts chosen from r/AITA with a score greater than or equal to 3. Both O’Brien’s full dataset and a smaller set of “10,000 randomly sampled (cleaned) data points” are available for download and use.  

---

### Idea 3  
I could use the COCO dataset's cat image data to create a model that identifies my cat in pictures. There are 4,298 cat pictures available on COCO. Additionally, I could explore whether the model can differentiate between images of my cat and other cats.  

I could also try and map out my cat's favorite spots based on images of her in different places. I’m not yet sure how many cat pictures I have, but my estimate is hundreds over the past few years. (There were enough for Apple to make a bunch of slideshows of my cat I didn’t ask it to make, at the very least).  
