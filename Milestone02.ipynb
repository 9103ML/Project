{
 "cells": [
  {
   "cell_type": "markdown",
   "metadata": {},
   "source": [
    "<h1>Milestone 02</h1>\n",
    "\n",
    "Pivot from Milestone 01 now that I've processed some creative angst and thought about it: I’ve chosen to analyze my personal music collection, which consists of 11,543 songs by 2,707 artists with a mix of file types (mp4, m4a, mp3, etc.). I'm combing through files now to narrow down my scope but uploaded a few random songs to mess around with and to see what's possible with different file formats. I'm trying out Mutagen and a couple other modules to see how much metadata I can feasibly get (switching between here and VSC locally on my laptop as I figure out what works).\n",
    "\n",
    "I’ve gotten permission from a couple of local artist friends to use their music, so I’m thinking about how and where to include those tracks thoughtfully, if anywhere. I’ll continue to figure that out as I explore my data using other songs and experiment with some of the classification and clustering methods we've covered. I'll continue to update here as I work on this and narrow down my area of focus."
   ]
  },
  {
   "cell_type": "code",
   "execution_count": null,
   "metadata": {},
   "outputs": [],
   "source": [
    "from mutagen.mp3 import MP3\n",
    "import sklearn.cluster"
   ]
  }
 ],
 "metadata": {
  "kernelspec": {
   "display_name": "Python 3",
   "language": "python",
   "name": "python3"
  },
  "language_info": {
   "codemirror_mode": {
    "name": "ipython",
    "version": 3
   },
   "file_extension": ".py",
   "mimetype": "text/x-python",
   "name": "python",
   "nbconvert_exporter": "python",
   "pygments_lexer": "ipython3",
   "version": "3.12.1"
  }
 },
 "nbformat": 4,
 "nbformat_minor": 2
}
